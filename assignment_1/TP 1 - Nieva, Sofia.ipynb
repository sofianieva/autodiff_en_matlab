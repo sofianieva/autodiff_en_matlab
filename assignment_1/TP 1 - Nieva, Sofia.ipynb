{
 "cells": [
  {
   "cell_type": "markdown",
   "metadata": {},
   "source": [
    "### TP 1 - Optimización - Nieva, Sofía"
   ]
  },
  {
   "cell_type": "markdown",
   "metadata": {},
   "source": [
    "# Consigna 1 - Random restart "
   ]
  },
  {
   "cell_type": "code",
   "execution_count": 1,
   "metadata": {},
   "outputs": [],
   "source": [
    "import numpy as np\n",
    "import pandas as pd\n",
    "import matplotlib.pyplot as plt\n",
    "from numpy.linalg import norm\n",
    "from numpy.linalg import solve\n",
    "from numpy.linalg import eigvals\n",
    "from time import time\n",
    "from math import sqrt\n",
    "from fx_test_2 import langermann"
   ]
  },
  {
   "cell_type": "markdown",
   "metadata": {},
   "source": [
    "Funciones previas necesarias"
   ]
  },
  {
   "cell_type": "code",
   "execution_count": 2,
   "metadata": {},
   "outputs": [],
   "source": [
    "def derivada_parcial(f,a,i):\n",
    "    h = 0.1\n",
    "    e = np.zeros(a.shape)\n",
    "    e[i]=1\n",
    "    z = (f(a+(h*e))-f(a-(h*e)))/(2*h)\n",
    "    h = h/2\n",
    "    y = (f(a+(h*e))-f(a-(h*e)))/(2*h)\n",
    "    error = norm(y-z)\n",
    "    it = 1\n",
    "    while it<750 and error>1e-8 and (y != np.nan) and (y != np.inf) and y!= 0:\n",
    "        error = norm(y-z)\n",
    "        z = y\n",
    "        h = h/2\n",
    "        y = (f(a+(h*e))-f(a-(h*e)))/(2*h)\n",
    "        it = it + 1\n",
    "    return z\n",
    "    \n",
    "def gradiente(f,a):\n",
    "    n = a.shape[0]\n",
    "    grad = np.zeros(a.shape)\n",
    "    for i in range(0,n):\n",
    "        grad[i] = derivada_parcial(f,a,i)\n",
    "    return grad  \n",
    "\n",
    "def hessiano(f,a): \n",
    "    n = a.shape[0]\n",
    "    H = np.zeros((n,n))\n",
    "    der_parcial = lambda a: derivada_parcial(f,a,i)     \n",
    "    for i in range(0,n):\n",
    "        H[i,:] = gradiente(der_parcial,a)\n",
    "    return H"
   ]
  },
  {
   "cell_type": "markdown",
   "metadata": {},
   "source": [
    "Métodos para obtener la longitud de paso"
   ]
  },
  {
   "cell_type": "code",
   "execution_count": 3,
   "metadata": {
    "scrolled": true
   },
   "outputs": [],
   "source": [
    "def aurea(f,x,d,eps=1e-5,ro=1):\n",
    "    tita_1 = (3-sqrt(5))/2\n",
    "    tita_2 = 1-tita_1\n",
    "    a, s, b = 0, ro, 2*ro\n",
    "    phi_b, phi_s = f(x+b*d), f(x+s*d)\n",
    "    while phi_b<phi_s:\n",
    "        a, s, b = s, b, 2*b\n",
    "        phi_s, phi_b = phi_b, f(x+b*d)\n",
    "    u,v = a+tita_1*(b-a), a+tita_2*(b-a)\n",
    "    phi_u, phi_v = f(x+u*d), f(x+v*d)\n",
    "    while (b-a)>eps:\n",
    "        if  phi_u<phi_v:\n",
    "            b, v = v, u\n",
    "            u = a + tita_1*(b-a)\n",
    "            phi_v, phi_u = phi_u, f(x+u*d)\n",
    "        else:\n",
    "            a, u = u, v \n",
    "            v = a + tita_2*(b-a)\n",
    "            phi_u, phi_v = phi_v, f(x+v*d)\n",
    "    return ((u+v)/2)\n",
    "    \n",
    "def armijo(f,x,d,gamma=0.7,eta=0.45):\n",
    "    t = 1\n",
    "    while f(x+t*d)>f(x)+eta*t*gradiente(f,x).T@d:\n",
    "        t = gamma*t\n",
    "    return t\n",
    "\n",
    "def wolfe(f, x, d, c_1=0.5, c_2=0.75):\n",
    "    alpha, t, beta = 0, 1, np.inf\n",
    "   \n",
    "    while True:\n",
    "        grad_f_x = gradiente(f, x)\n",
    "        if f(x + t*d) > f(x) + c_1 * t * grad_f_x.T @ d:\n",
    "            beta = t \n",
    "            t = (alpha + beta) / 2\n",
    "        elif gradiente(f, x + t*d).T @ d < c_2*grad_f_x.T @ d:\n",
    "            alpha = t\n",
    "            if beta == np.inf:\n",
    "                t = 2*alpha\n",
    "            else:\n",
    "                t = (alpha + beta) / 2\n",
    "        else:\n",
    "            break\n",
    "    \n",
    "    return t\n",
    "\n"
   ]
  },
  {
   "cell_type": "markdown",
   "metadata": {},
   "source": [
    "Métodos de descenso"
   ]
  },
  {
   "cell_type": "code",
   "execution_count": 4,
   "metadata": {},
   "outputs": [],
   "source": [
    "def met_grad(f, x, eps=1e-5, it_max=750, met_paso=armijo, met_paso_args={}):\n",
    "    it = 0\n",
    "    grad_f_x = gradiente(f, x)\n",
    "   \n",
    "    while norm(grad_f_x)>eps and it<it_max:\n",
    "        d = -grad_f_x\n",
    "        t = met_paso(f,x,d, **met_paso_args)\n",
    "        x = x+t*d\n",
    "        grad_f_x = gradiente(f, x)\n",
    "        it = it+1\n",
    "    \n",
    "    return it, x    \n",
    "\n",
    "def met_grad_conj(f, x, eps=1e-5, it_max=750, met_paso=wolfe, met_paso_args={}):\n",
    "    grad_f_new = gradiente(f, x)\n",
    "    d = -grad_f_new\n",
    "    it = 0\n",
    "    n = x.shape[0]\n",
    "    y = x + 2*eps\n",
    "    \n",
    "    while norm(grad_f_new)>eps and norm(x-y)>eps and it<it_max: \n",
    "        t = met_paso(f,x,d, **met_paso_args)\n",
    "        y = x.copy()\n",
    "        grad_f_old = grad_f_new.copy()\n",
    "        x = y + t*d\n",
    "    \n",
    "        if norm(x)>1e+5:\n",
    "            x = y.copy()\n",
    "            break\n",
    "        \n",
    "        grad_f_new = gradiente(f, x)\n",
    "        \n",
    "        if (it+1)%n != 0:\n",
    "            b = (grad_f_new.T@grad_f_new)/(grad_f_old.T@grad_f_old)\n",
    "        else:\n",
    "            b = 0 \n",
    "            \n",
    "        d = -grad_f_new + b*d\n",
    "        it = it + 1\n",
    "        \n",
    "    return it, x \n",
    "\n",
    "def met_cuasi_newt(f, x, met_H=lambda x: np.eye(x.shape[0]), eps=1e-5, it_max=750, met_paso=wolfe, met_paso_args={}):\n",
    "    it = 0\n",
    "    y = x + 2*eps\n",
    "    H = met_H(x)\n",
    "    grad_f_new = gradiente(f, x)\n",
    "   \n",
    "    while norm(grad_f_new)>eps and norm(x-y)>eps and it<it_max: \n",
    "        d = -H@grad_f_new\n",
    "        t = met_paso(f,x,d, **met_paso_args)\n",
    "        y = x.copy()\n",
    "        grad_f_old = grad_f_new.copy()\n",
    "        x = y + t*d\n",
    "        \n",
    "        if norm(x)>10**5:\n",
    "            break\n",
    "        \n",
    "        grad_f_new = gradiente(f, x)\n",
    "       \n",
    "        # Determino H con el metodo DFP\n",
    "        q = grad_f_new - grad_f_old\n",
    "        p = x - y\n",
    "        H = H + (np.outer(p,p))/(p.T@q) - (H@np.outer(q,q)@H)/(q.T@H@q)\n",
    "        \n",
    "        it = it + 1\n",
    "   \n",
    "    return it, x \n",
    "\n"
   ]
  },
  {
   "cell_type": "markdown",
   "metadata": {},
   "source": [
    "Generamos 150 puntos aleatorios en [-5,5)x[-5,5) y luego aplicamos cada método a cada uno de los 150 puntos. Resgistramos el punto entre los 150 que logra menor valor de la función objetivo y el tiempo que tarda cada método en total.     \n",
    "Reflejamos los resultados en una tabla.\n",
    "\n"
   ]
  },
  {
   "cell_type": "code",
   "execution_count": 5,
   "metadata": {
    "scrolled": true
   },
   "outputs": [
    {
     "name": "stdout",
     "output_type": "stream",
     "text": [
      "Gradiente: x*=[1.99120593 1.98861982], f(x*)=-4.127576741310033\n",
      "Tiempo que tardo (s):  482.5407795906067 \n",
      "\n"
     ]
    },
    {
     "name": "stderr",
     "output_type": "stream",
     "text": [
      "C:\\Users\\Sofia\\Documents\\Facultad\\Optimizacion\\TP 1\\fx_test_2.py:124: RuntimeWarning: overflow encountered in double_scalars\n",
      "  np.cos(np.pi * sum((x[j] - a[i, j]) ** 2 for j in range(d))) for i in range(m))\n",
      "C:\\Users\\Sofia\\Documents\\Facultad\\Optimizacion\\TP 1\\fx_test_2.py:124: RuntimeWarning: invalid value encountered in cos\n",
      "  np.cos(np.pi * sum((x[j] - a[i, j]) ** 2 for j in range(d))) for i in range(m))\n",
      "C:\\Users\\Sofia\\Documents\\Facultad\\Optimizacion\\TP 1\\fx_test_2.py:123: RuntimeWarning: overflow encountered in double_scalars\n",
      "  return sum(c[i] * np.exp(-1 / np.pi * sum((x[j] - a[i, j]) ** 2 for j in range(d))) *\n"
     ]
    },
    {
     "name": "stdout",
     "output_type": "stream",
     "text": [
      "Gradientes Conjugados: x*=[1.99121462 1.98862278], f(x*)=-4.127576739381109\n",
      "Tiempo que tardo (s):  114.814768075943 \n",
      "\n",
      "Cuasi-Newton: x*=[2.7934022  1.59723247], f(x*)=-4.155809291847731\n",
      "Tiempo que tardo (s):  90.00220704078674 \n",
      "\n"
     ]
    },
    {
     "data": {
      "text/html": [
       "<div>\n",
       "<style scoped>\n",
       "    .dataframe tbody tr th:only-of-type {\n",
       "        vertical-align: middle;\n",
       "    }\n",
       "\n",
       "    .dataframe tbody tr th {\n",
       "        vertical-align: top;\n",
       "    }\n",
       "\n",
       "    .dataframe thead th {\n",
       "        text-align: right;\n",
       "    }\n",
       "</style>\n",
       "<table border=\"1\" class=\"dataframe\">\n",
       "  <thead>\n",
       "    <tr style=\"text-align: right;\">\n",
       "      <th></th>\n",
       "      <th>Paso</th>\n",
       "      <th>Tiempo (s)</th>\n",
       "      <th>f(x*)</th>\n",
       "    </tr>\n",
       "  </thead>\n",
       "  <tbody>\n",
       "    <tr>\n",
       "      <th>Gradiente</th>\n",
       "      <td>Armijo</td>\n",
       "      <td>482.540780</td>\n",
       "      <td>-4.127577</td>\n",
       "    </tr>\n",
       "    <tr>\n",
       "      <th>Gradientes Conjugados</th>\n",
       "      <td>Wolfe</td>\n",
       "      <td>114.814768</td>\n",
       "      <td>-4.127577</td>\n",
       "    </tr>\n",
       "    <tr>\n",
       "      <th>Cuasi-Newton</th>\n",
       "      <td>Wolfe</td>\n",
       "      <td>90.002207</td>\n",
       "      <td>-4.155809</td>\n",
       "    </tr>\n",
       "  </tbody>\n",
       "</table>\n",
       "</div>"
      ],
      "text/plain": [
       "                         Paso  Tiempo (s)     f(x*)\n",
       "Gradiente              Armijo  482.540780 -4.127577\n",
       "Gradientes Conjugados   Wolfe  114.814768 -4.127577\n",
       "Cuasi-Newton            Wolfe   90.002207 -4.155809"
      ]
     },
     "execution_count": 5,
     "metadata": {},
     "output_type": "execute_result"
    }
   ],
   "source": [
    "n = 150\n",
    "np.random.seed([15])\n",
    "x = 10*np.random.rand(n) - 5\n",
    "y = 10*np.random.rand(n) - 5\n",
    "P = [np.array([x[i],y[i]]) for i in range(n)]\n",
    "\n",
    "metodos = [\n",
    "    (\"Gradiente\", met_grad, \"Armijo\", armijo), \n",
    "    (\"Gradientes Conjugados\", met_grad_conj, \"Wolfe\", wolfe), \n",
    "    (\"Cuasi-Newton\", met_cuasi_newt, \"Wolfe\", wolfe)\n",
    "]\n",
    "minimizadores = []\n",
    "tiempos = []\n",
    "\n",
    "datos = []\n",
    "index = []\n",
    "columns = [\"Paso\", \"Tiempo (s)\", \"f(x*)\"]\n",
    "\n",
    "for nombre, metodo, nombre_paso, metodo_paso in metodos:\n",
    "    M = []\n",
    "    inicio = time()\n",
    "    for i in range(0,n):\n",
    "        M.append((metodo(langermann, P[i], met_paso=metodo_paso)[1]))\n",
    "    m = np.argmin([langermann(M[i]) for i in range(n)])\n",
    "    fin = time()\n",
    "    tiempo = fin - inicio\n",
    "    minimizadores.append(M[m])\n",
    "    tiempos.append(tiempo)\n",
    "    print(f\"{nombre}: x*={M[m]}, f(x*)={langermann(M[m])}\")\n",
    "    print(\"Tiempo que tardo (s): \", tiempo, \"\\n\")\n",
    "    \n",
    "    datos.append([nombre_paso, tiempo, langermann(M[m])])\n",
    "    index.append(nombre)\n",
    "    \n",
    "df = pd.DataFrame(datos, index=index, columns=columns)\n",
    "df"
   ]
  },
  {
   "cell_type": "markdown",
   "metadata": {},
   "source": [
    "### Observaciones"
   ]
  },
  {
   "cell_type": "markdown",
   "metadata": {},
   "source": [
    "Con la semilla elegida el método que obtuvo el mejor resultado y el que lo hizo mas rápido fue el método de Cuasi-Newton con Wolfe.     \n",
    "\n",
    "Si se prueba con otras combinaciones de métodos de descenso y métodos de paso se observa en general que el método de Armijo es mas lento que los otros dos y el de Sección Áurea es mucho mas rápido pero no encuentra buenos mínimos locales.\n",
    "\n",
    "Por otro lado, utilizando el mismo metodo de paso, el método del Gradiente es mucho mas lento que los otros dos, y el de Cuasi-Newton es en general un poco mas rápido que el de Gradientes Conjugados. Además, con sección aurea, Cuasi-Newton suele encontrar mejores mínimos que Gradientes Conjugados.   "
   ]
  },
  {
   "cell_type": "markdown",
   "metadata": {},
   "source": [
    "# Consigna 2 - Perfiles de desempeño"
   ]
  },
  {
   "cell_type": "markdown",
   "metadata": {},
   "source": [
    "## Perfil 1"
   ]
  },
  {
   "cell_type": "markdown",
   "metadata": {},
   "source": [
    "Métodos de descenso restantes"
   ]
  },
  {
   "cell_type": "code",
   "execution_count": 6,
   "metadata": {},
   "outputs": [],
   "source": [
    "def met_nemtML(f, x, eps=1e-5, it_max=1000, gamma=0.7, met_paso=armijo, **kwargs):\n",
    "    it = 0\n",
    "    grad_f_x = gradiente(f, x)\n",
    "   \n",
    "    while norm(grad_f_x)>eps and it<it_max:\n",
    "        B = hessiano(f,x)\n",
    "        g = grad_f_x\n",
    "        n = B.shape[0]\n",
    "        mu = min(eigvals(B))\n",
    "       \n",
    "        if mu <= 0:\n",
    "            B = B+(-mu+gamma)*np.eye(n)\n",
    "       \n",
    "        d = solve(B,(-g))\n",
    "        t = met_paso(f,x,d, **kwargs)\n",
    "        x = x+t*d\n",
    "        grad_f_x = gradiente(f, x)\n",
    "        it = it+1\n",
    "    \n",
    "    return it, x   \n",
    "\n",
    "def met_reg_confianza_cauchy(f, x, delta=1, eta=0.2, eps=1e-5, it_max=1000):\n",
    "    it = 0\n",
    "    grad_f_x = gradiente(f, x)\n",
    "  \n",
    "    while norm(grad_f_x)>eps and it<it_max: \n",
    "        \n",
    "        # Calculo d con Punto de Cauchy\n",
    "        B = hessiano(f,x)\n",
    "        tau = 0\n",
    "        if grad_f_x.T@B@grad_f_x <= 0:\n",
    "            tau = 1\n",
    "        else:\n",
    "            tau = min(1, (norm(grad_f_x)**3)/(delta*(grad_f_x.T@B@grad_f_x)))\n",
    "        d = ((-tau)*delta/norm(grad_f_x))*grad_f_x\n",
    "        \n",
    "        # Calculo ro\n",
    "        ared = f(x) - f(x+d)\n",
    "        pred = -(grad_f_x.T@d) -(d.T@B@d)/2\n",
    "        ro = ared/pred\n",
    "        \n",
    "        if ro > eta:\n",
    "            x = x + d\n",
    "            grad_f_x = gradiente(f, x)\n",
    "\n",
    "        if ro < 0.25:\n",
    "            delta = delta/2\n",
    "        else:\n",
    "            if ro > 0.75 and norm(d) == delta:\n",
    "                delta = 2*delta\n",
    "        \n",
    "        it = it + 1\n",
    "        \n",
    "    return it, x "
   ]
  },
  {
   "cell_type": "markdown",
   "metadata": {},
   "source": [
    "Dados el conjunto de problemas y de algoritmos a comparar calculamos la matriz C de costos (en este caso, el tiempo de cómputo) y luego la matriz R con los índices de desempeño relativo. Definimos la función de desempeño que toma como parámetros $\\tau$ y un algoritmo (su índice en el vector de algoritmos). Calculamos el $r_{max}$ y lo devolvemos junto con la función."
   ]
  },
  {
   "cell_type": "code",
   "execution_count": 7,
   "metadata": {},
   "outputs": [
    {
     "name": "stderr",
     "output_type": "stream",
     "text": [
      "C:\\Users\\Sofia\\Anaconda3\\lib\\site-packages\\ipykernel_launcher.py:22: ComplexWarning: Casting complex values to real discards the imaginary part\n"
     ]
    }
   ],
   "source": [
    "from f_tp_1 import puntos_iniciales, f0, f1, f2, f3, f4, f5, f6, f7, f8, f9, f10, f11, f12, f13, f14, f15, f16, f17, f18, f19, f20\n",
    "\n",
    "algoritmos = [\n",
    "    (\"Gradiente con Armijo\", met_grad),\n",
    "    (\"Newton-LM con Armijo\", met_nemtML),\n",
    "    (\"Region de confianza\", met_reg_confianza_cauchy), \n",
    "    (\"Gradientes Conjugados con Wolfe\", met_grad_conj)\n",
    "]\n",
    "problemas_1 = [f0, f1, f2, f3, f4, f5, f6, f7, f8, f9, f10, f11, f12, f13, f14, f15, f16, f17, f18, f19, f20]\n",
    "\n",
    "def perfil_1(algoritmos, problemas):\n",
    "    n, m = len(problemas), len(algoritmos)\n",
    "    C = np.zeros([n, m])\n",
    "    R = np.zeros([n, m])\n",
    "\n",
    "    for j in range(0,m):\n",
    "        for i in range(0,n):\n",
    "            \n",
    "            inicio = time()\n",
    "            it, x = algoritmos[j][1](problemas[i], puntos_iniciales[i], eps=1e-5, it_max=1000)\n",
    "            fin = time()\n",
    "            \n",
    "            if it == 1000 or norm(x) > 1e5:\n",
    "                t = 1e8\n",
    "            else:\n",
    "                # Le sumo algo chiquito si no despues divido por 0\n",
    "                t = fin - inicio + 1e-6 \n",
    "           \n",
    "            C[i,j] = t   \n",
    "    \n",
    "    for j in range(0,m):\n",
    "        for i in range(0,n):\n",
    "            R[i,j] = C[i,j]/ (min(C[i,:]))\n",
    "    \n",
    "    def funcion_desempeno(tau, algoritmo):\n",
    "        numerador = sum(1 for i in range(0,n) if R[i,algoritmo] <= tau)\n",
    "        denominador = sum(1 for i in range(0,n))\n",
    "        return numerador/denominador\n",
    "    \n",
    "    lista=[]\n",
    "    for j in range(0,m):\n",
    "        for i in range(0,n):\n",
    "            if C[i,j] != 1e8:\n",
    "                lista.append(R[i,j])\n",
    "    r_max = max(lista)\n",
    "    \n",
    "    return funcion_desempeno, r_max\n",
    "    \n",
    "funcion_desempeno_1, r_max_1 = perfil_1(algoritmos,problemas_1)"
   ]
  },
  {
   "cell_type": "markdown",
   "metadata": {},
   "source": [
    "Calculamos la eficiencia y la robustez de cada algoritmo evaluando la función de desempeño en 1 y en $r_{max}$ respectivamente para cada algoritmo."
   ]
  },
  {
   "cell_type": "code",
   "execution_count": 8,
   "metadata": {
    "scrolled": true
   },
   "outputs": [
    {
     "data": {
      "text/html": [
       "<div>\n",
       "<style scoped>\n",
       "    .dataframe tbody tr th:only-of-type {\n",
       "        vertical-align: middle;\n",
       "    }\n",
       "\n",
       "    .dataframe tbody tr th {\n",
       "        vertical-align: top;\n",
       "    }\n",
       "\n",
       "    .dataframe thead th {\n",
       "        text-align: right;\n",
       "    }\n",
       "</style>\n",
       "<table border=\"1\" class=\"dataframe\">\n",
       "  <thead>\n",
       "    <tr style=\"text-align: right;\">\n",
       "      <th></th>\n",
       "      <th>Eficiencia</th>\n",
       "      <th>Robustez</th>\n",
       "    </tr>\n",
       "  </thead>\n",
       "  <tbody>\n",
       "    <tr>\n",
       "      <th>Gradiente con Armijo</th>\n",
       "      <td>0.238095</td>\n",
       "      <td>0.809524</td>\n",
       "    </tr>\n",
       "    <tr>\n",
       "      <th>Newton-LM con Armijo</th>\n",
       "      <td>0.095238</td>\n",
       "      <td>0.809524</td>\n",
       "    </tr>\n",
       "    <tr>\n",
       "      <th>Region de confianza</th>\n",
       "      <td>0.047619</td>\n",
       "      <td>0.761905</td>\n",
       "    </tr>\n",
       "    <tr>\n",
       "      <th>Gradientes Conjugados con Wolfe</th>\n",
       "      <td>0.619048</td>\n",
       "      <td>1.000000</td>\n",
       "    </tr>\n",
       "  </tbody>\n",
       "</table>\n",
       "</div>"
      ],
      "text/plain": [
       "                                 Eficiencia  Robustez\n",
       "Gradiente con Armijo               0.238095  0.809524\n",
       "Newton-LM con Armijo               0.095238  0.809524\n",
       "Region de confianza                0.047619  0.761905\n",
       "Gradientes Conjugados con Wolfe    0.619048  1.000000"
      ]
     },
     "execution_count": 8,
     "metadata": {},
     "output_type": "execute_result"
    }
   ],
   "source": [
    "datos_2a = []\n",
    "index_2a = []\n",
    "\n",
    "for j in range(0,len(algoritmos)):\n",
    "    datos_2a.append([funcion_desempeno_1(1,j),funcion_desempeno_1(r_max_1,j)])\n",
    "    index_2a.append(algoritmos[j][0])\n",
    "    \n",
    "df = pd.DataFrame(datos_2a, index=index_2a, columns=[\"Eficiencia\", \"Robustez\"])\n",
    "df"
   ]
  },
  {
   "cell_type": "markdown",
   "metadata": {},
   "source": [
    "Como podemos observar, los métodos de Newton-LM con Armijo y el de región de confianza son muy poco eficientes. Como estabamos tomando el tiempo de cómputo como costo, esto significa que son muy poco los problemas que resuelven mas rápido que los otros algoritmos, es decir, en general son mas lentos. El método del gradiente con Armijo es un poco mas eficiente, pero no mucho (ya habiamos visto en la consigna 1 que Armijo y el método del Gradiente solían ser lentos). El más eficiente es el método de Gradientes Conjugados con Wolfe y éste resulta también el mas robusto, de hecho, es el único que logra resolver todos los problemas. Los otros algoritmos tienen una robustez similar, siendo la del método de región de confianza un poco menor, y en todos los casos es mucho mayor a la eficiencia del método, es decir, si bien, en general, no logran resolver los problemas rápidamente, logran al final resolver alrededor de un 80% de los problemas. \n",
    "\n",
    "Para ver mejor como varía la función de desempeño en función de $ \\tau $ realizamos tres gráficos. El primero para valores chicos de $ \\tau $ para ver mejor la eficiencia y cuantos problemas resuelve cada algoritmo tardando hasta 10 veces mas que el algoritmo mas rápido. Y los otros para valores grandes de $ \\tau $, para observar mejor la robustez de cada algoritmo. En todos se puede ver que el método de Gradientes Conjugados con Wolfe está siempre por arriba de los otros (además de ser el mas eficiente y el mas robusto) con lo cual es método que tuvo mejor desempeño en este perfil. Por otro lado el método de región de confianza esta siempre por debajo de los otros, por lo que es el método con peor desempeño."
   ]
  },
  {
   "cell_type": "code",
   "execution_count": 9,
   "metadata": {
    "scrolled": false
   },
   "outputs": [
    {
     "data": {
      "text/plain": [
       "<function matplotlib.pyplot.show(*args, **kw)>"
      ]
     },
     "execution_count": 9,
     "metadata": {},
     "output_type": "execute_result"
    },
    {
     "data": {
      "image/png": "[encoded data removed]",
      "text/plain": [
       "<Figure size 432x288 with 1 Axes>"
      ]
     },
     "metadata": {
      "needs_background": "light"
     },
     "output_type": "display_data"
    }
   ],
   "source": [
    "x = np.linspace(1,10,180)\n",
    "vfuncion_desempeno_1 = np.vectorize(funcion_desempeno_1)\n",
    "plt.axis([1, 10, 0, 1])\n",
    "for j in range(0,len(algoritmos)):\n",
    "    plt.plot(x, vfuncion_desempeno_1(x,j), label=algoritmos[j][0])\n",
    "plt.legend(loc=(1.05,0))\n",
    "plt.xlabel(r'$\\tau$')\n",
    "plt.ylabel(r'función de desempeño($\\tau$)')\n",
    "plt.show"
   ]
  },
  {
   "cell_type": "code",
   "execution_count": 10,
   "metadata": {},
   "outputs": [
    {
     "data": {
      "text/plain": [
       "<function matplotlib.pyplot.show(*args, **kw)>"
      ]
     },
     "execution_count": 10,
     "metadata": {},
     "output_type": "execute_result"
    },
    {
     "data": {
      "image/png": "[encoded data removed]",
      "text/plain": [
       "<Figure size 432x288 with 1 Axes>"
      ]
     },
     "metadata": {
      "needs_background": "light"
     },
     "output_type": "display_data"
    }
   ],
   "source": [
    "y = np.linspace(1,90,450)\n",
    "vfuncion_desempeno_1 = np.vectorize(funcion_desempeno_1)\n",
    "plt.axis([1, 90, 0, 1])\n",
    "for j in range(0,len(algoritmos)):\n",
    "    plt.plot(y, vfuncion_desempeno_1(y,j), label=algoritmos[j][0])\n",
    "plt.legend(loc=(1.05,0))\n",
    "plt.xlabel(r'$\\tau$')\n",
    "plt.ylabel(r'función de desempeño($\\tau$)')\n",
    "plt.show"
   ]
  },
  {
   "cell_type": "code",
   "execution_count": 11,
   "metadata": {},
   "outputs": [
    {
     "data": {
      "text/plain": [
       "<function matplotlib.pyplot.show(*args, **kw)>"
      ]
     },
     "execution_count": 11,
     "metadata": {},
     "output_type": "execute_result"
    },
    {
     "data": {
      "image/png": "[encoded data removed]",
      "text/plain": [
       "<Figure size 432x288 with 1 Axes>"
      ]
     },
     "metadata": {
      "needs_background": "light"
     },
     "output_type": "display_data"
    }
   ],
   "source": [
    "z = np.linspace(1,r_max_1,450)\n",
    "vfuncion_desempeno_1 = np.vectorize(funcion_desempeno_1)\n",
    "plt.axis([1, r_max_1, 0, 1])\n",
    "for j in range(0,len(algoritmos)):\n",
    "    plt.plot(z, vfuncion_desempeno_1(z,j), label=algoritmos[j][0])\n",
    "plt.legend(loc=(1.05,0))\n",
    "plt.xlabel(r'$\\tau$')\n",
    "plt.ylabel(r'función de desempeño($\\tau$)')\n",
    "plt.show"
   ]
  },
  {
   "cell_type": "markdown",
   "metadata": {},
   "source": [
    "## Perfil 2"
   ]
  },
  {
   "cell_type": "markdown",
   "metadata": {},
   "source": [
    "Nuevamente, dados el conjunto de problemas y de algoritmos a comparar (en este caso, el mismo algoritmo con distintos parámetros) calculamos la matriz C de costos (que ahora es la cantidad de iteraciones) y luego la matriz R con los índices de desempeño relativo. Definimos la función de desempeño que toma como parametros $ \\tau $ y un algoritmo (su índice en el vector de parametros). Calculamos el $r_{max}$ y lo devolvemos junto con la función."
   ]
  },
  {
   "cell_type": "code",
   "execution_count": 12,
   "metadata": {
    "scrolled": true
   },
   "outputs": [],
   "source": [
    "from f_tp_2 import puntos_iniciales, f0 as g0, f1 as g1, f2 as g2, f3 as g3, f4 as g4, f5 as g5, f6 as g6, f7 as g7, f8 as g8, f9 as g9, f10 as g10, f11 as g11, f12 as g12, f13 as g13, f14 as g14, f15 as g15, f16 as g16, f17 as g17, f18 as g18, f19 as g19\n",
    "\n",
    "parametros = [\n",
    "    (\"Delta = 1, Eta = 0.2\", 1, 0.2),\n",
    "    (\"Delta = 1.55, Eta = 0.3\", 1.55, 0.3),\n",
    "    (\"Delta = 0.55, Eta = 0.15\", 0.55, 0.15), \n",
    "    (\"Delta = 2, Eta = 0.01\", 2, 0.01)\n",
    "]\n",
    "problemas_2 = [g0, g1, g2, g3, g4, g5, g6, g7, g8, g9, g10, g11, g12, g13, g14, g15, g16, g17, g18, g19]\n",
    "\n",
    "def perfil_2(parametros, problemas):\n",
    "    n, m = len(problemas), len(parametros)\n",
    "    C = np.zeros([n, m])\n",
    "    R = np.zeros([n, m])\n",
    "\n",
    "    for j in range(0,m):\n",
    "        for i in range(0,n):\n",
    "        \n",
    "            it, x = met_reg_confianza_cauchy(problemas[i], puntos_iniciales[i], delta=parametros[j][1], eta=parametros[j][2], eps=1e-7, it_max=300)\n",
    "            \n",
    "            if it == 300:\n",
    "                k = 1e8\n",
    "            else:\n",
    "                k = it \n",
    "           \n",
    "            C[i,j] = k\n",
    "      \n",
    "    for j in range(0,m):\n",
    "        for i in range(0,n):\n",
    "            R[i,j] = C[i,j]/ (min(C[i,:]))\n",
    "    \n",
    "    def funcion_desempeno(tau, algoritmo):\n",
    "        numerador = sum(1 for i in range(0,n) if R[i,algoritmo] <= tau)\n",
    "        denominador = sum(1 for i in range(0,n))\n",
    "        return numerador/denominador\n",
    "       \n",
    "    lista=[]\n",
    "    for j in range(0,m):\n",
    "        for i in range(0,n):\n",
    "            if C[i,j] != 1e8:\n",
    "                lista.append(R[i,j])\n",
    "    r_max = max(lista)\n",
    "    \n",
    "    return funcion_desempeno, r_max\n",
    "\n",
    "funcion_desempeno_2, r_max_2 = perfil_2(parametros,problemas_2)"
   ]
  },
  {
   "cell_type": "markdown",
   "metadata": {},
   "source": [
    "Calculamos la eficiencia y la robustez de cada algoritmo evaluando la función de desempeño en 1 y en $r_{max}$ respectivamente para cada algoritmo."
   ]
  },
  {
   "cell_type": "code",
   "execution_count": 13,
   "metadata": {
    "scrolled": true
   },
   "outputs": [
    {
     "data": {
      "text/html": [
       "<div>\n",
       "<style scoped>\n",
       "    .dataframe tbody tr th:only-of-type {\n",
       "        vertical-align: middle;\n",
       "    }\n",
       "\n",
       "    .dataframe tbody tr th {\n",
       "        vertical-align: top;\n",
       "    }\n",
       "\n",
       "    .dataframe thead th {\n",
       "        text-align: right;\n",
       "    }\n",
       "</style>\n",
       "<table border=\"1\" class=\"dataframe\">\n",
       "  <thead>\n",
       "    <tr style=\"text-align: right;\">\n",
       "      <th></th>\n",
       "      <th>Eficiencia</th>\n",
       "      <th>Robustez</th>\n",
       "    </tr>\n",
       "  </thead>\n",
       "  <tbody>\n",
       "    <tr>\n",
       "      <th>Delta = 1, Eta = 0.2</th>\n",
       "      <td>0.50</td>\n",
       "      <td>1.00</td>\n",
       "    </tr>\n",
       "    <tr>\n",
       "      <th>Delta = 1.55, Eta = 0.3</th>\n",
       "      <td>0.25</td>\n",
       "      <td>0.70</td>\n",
       "    </tr>\n",
       "    <tr>\n",
       "      <th>Delta = 0.55, Eta = 0.15</th>\n",
       "      <td>0.30</td>\n",
       "      <td>1.00</td>\n",
       "    </tr>\n",
       "    <tr>\n",
       "      <th>Delta = 2, Eta = 0.01</th>\n",
       "      <td>0.50</td>\n",
       "      <td>0.95</td>\n",
       "    </tr>\n",
       "  </tbody>\n",
       "</table>\n",
       "</div>"
      ],
      "text/plain": [
       "                          Eficiencia  Robustez\n",
       "Delta = 1, Eta = 0.2            0.50      1.00\n",
       "Delta = 1.55, Eta = 0.3         0.25      0.70\n",
       "Delta = 0.55, Eta = 0.15        0.30      1.00\n",
       "Delta = 2, Eta = 0.01           0.50      0.95"
      ]
     },
     "execution_count": 13,
     "metadata": {},
     "output_type": "execute_result"
    }
   ],
   "source": [
    "datos_2b = []\n",
    "index_2b = []\n",
    "\n",
    "for j in range(0,len(parametros)):\n",
    "    datos_2b.append([funcion_desempeno_2(1,j),funcion_desempeno_2(r_max_2,j)])\n",
    "    index_2b.append(parametros[j][0])\n",
    "    \n",
    "df = pd.DataFrame(datos_2b, index=index_2b, columns=[\"Eficiencia\", \"Robustez\"])\n",
    "df"
   ]
  },
  {
   "cell_type": "markdown",
   "metadata": {},
   "source": [
    "Como podemos observar, los métodos de región de confianza con parámetros $ \\delta $ = 1, $\\eta$ = 0.2 y $\\delta$ = 2, $\\eta$ = 0.01 son los más eficientes, ambos con una eficiencia del 50%. A diferencia del perfil anterior, en este, si se suman las eficiencias de los cuatro algoritmos da mas de 1, con lo cual, para ciertos problemas hay varios algoritmos que lo resuelven con el costo mínimo. La diferencia es que ahora estamos tomando como costo la cantidad de iteraciones, entonces puede pasar que dos algoritmos hagan la misma cantidad de iteraciones, pero es muy poco probable que tarden exactamentamente el mismo tiempo, que es lo que se tomaba como costo en el perfil anterior. Además cada vez que se corre este perfil el resultado es el mismo mientras que en el otro puede variar un poco porque el tiempo de cómputo para cada algoritmo ni siquiera es igual de una corrida a otra. Los métodos con $\\delta$ = 1.55, $\\eta$ = 0.3 y $\\delta$ = 0.55, $\\eta$ = 0.15 son un poco menos eficientes, es decir, en varios casos, necesitan mas iteraciones para resolver los problemas que los métodos con $\\delta$ = 1, $\\eta$ = 0.2 y $\\delta$ = 2, $\\eta$ = 0.01. Sin embargo, el método con parámetros $\\delta$ = 0.55, $\\eta$ = 0.15 es uno de los mas robustos, que al igual que con $\\delta$ = 1, $\\eta$ = 0.2, logra resolver el 100% de los problemas. Pero el único que es tanto de los mas robustos como de los mas eficientes es el método de región de confianza con parametros $\\delta$ = 1, $\\eta$ = 0.2.\n",
    "\n",
    "Para ver mejor como varía la función de desempeño en función de $\\tau$ realizamos dos gráficos. El primero para valores chicos de $\\tau$, donde se aprecia mejor la eficiencia y el segundo para valores un poco mas grandes, donde se aprecia mejor la robustez. Podemos ver que el método con $\\delta$ = 1.55, $\\eta$ = 0.3 está siempre por abajo del resto, con lo cual es el que peor desmpeño tuvo en este perfil. Y el método con $\\delta$ = 1, $\\eta$ = 0.2, si bien no esta por encima de los otros para todos los valores de tau, sí los esta para la mayoria de ellos además de que es de los mas eficientes y de los mas robustos, por lo que podriamos decir que es el que obtuvo mejor desempeño"
   ]
  },
  {
   "cell_type": "code",
   "execution_count": 14,
   "metadata": {},
   "outputs": [
    {
     "data": {
      "text/plain": [
       "<function matplotlib.pyplot.show(*args, **kw)>"
      ]
     },
     "execution_count": 14,
     "metadata": {},
     "output_type": "execute_result"
    },
    {
     "data": {
      "image/png": "[encoded data removed]",
      "text/plain": [
       "<Figure size 432x288 with 1 Axes>"
      ]
     },
     "metadata": {
      "needs_background": "light"
     },
     "output_type": "display_data"
    }
   ],
   "source": [
    "x = np.linspace(1,5,80)\n",
    "vfuncion_desempeno_2 = np.vectorize(funcion_desempeno_2)\n",
    "plt.axis([1, 5, 0, 1])\n",
    "for j in range(0,len(parametros)):\n",
    "    plt.plot(x, vfuncion_desempeno_2(x,j), label=parametros[j][0])\n",
    "plt.legend(loc=(1.05,0))\n",
    "plt.xlabel(r'$\\tau$')\n",
    "plt.ylabel(r'función de desempeño($\\tau$)')\n",
    "plt.show"
   ]
  },
  {
   "cell_type": "code",
   "execution_count": 15,
   "metadata": {
    "scrolled": true
   },
   "outputs": [
    {
     "data": {
      "text/plain": [
       "<function matplotlib.pyplot.show(*args, **kw)>"
      ]
     },
     "execution_count": 15,
     "metadata": {},
     "output_type": "execute_result"
    },
    {
     "data": {
      "image/png": "[encoded data removed]",
      "text/plain": [
       "<Figure size 432x288 with 1 Axes>"
      ]
     },
     "metadata": {
      "needs_background": "light"
     },
     "output_type": "display_data"
    }
   ],
   "source": [
    "y = np.linspace(1,15,140)\n",
    "vfuncion_desempeno_2 = np.vectorize(funcion_desempeno_2)\n",
    "plt.axis([1, 15, 0, 1])\n",
    "for j in range(0,len(parametros)):\n",
    "    plt.plot(y, vfuncion_desempeno_2(y,j), label=parametros[j][0])\n",
    "plt.legend(loc=(1.05,0))\n",
    "plt.xlabel(r'$\\tau$')\n",
    "plt.ylabel(r'función de desempeño($\\tau$)')\n",
    "plt.show"
   ]
  }
 ],
 "metadata": {
  "kernelspec": {
   "display_name": "Python 3",
   "language": "python",
   "name": "python3"
  },
  "language_info": {
   "codemirror_mode": {
    "name": "ipython",
    "version": 3
   },
   "file_extension": ".py",
   "mimetype": "text/x-python",
   "name": "python",
   "nbconvert_exporter": "python",
   "pygments_lexer": "ipython3",
   "version": "3.7.3"
  }
 },
 "nbformat": 4,
 "nbformat_minor": 2
}
